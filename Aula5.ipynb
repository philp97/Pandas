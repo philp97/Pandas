{
  "nbformat": 4,
  "nbformat_minor": 0,
  "metadata": {
    "colab": {
      "name": "Aula5.ipynb",
      "provenance": [],
      "collapsed_sections": []
    },
    "kernelspec": {
      "name": "python3",
      "display_name": "Python 3"
    },
    "language_info": {
      "name": "python"
    }
  },
  "cells": [
    {
      "cell_type": "code",
      "metadata": {
        "id": "Pk8Cy2CljWn5"
      },
      "source": [
        "import pandas as pd"
      ],
      "execution_count": null,
      "outputs": []
    },
    {
      "cell_type": "code",
      "metadata": {
        "id": "nZ5r8fw1mcjc"
      },
      "source": [
        "#lendo os arquivos\n",
        "df1 = pd.read_excel(\"/content/drive/MyDrive/2be7520c-94cd-463f-8432-d580d0810344/Cusro_Python_Pandas_Digital_Innovation-master/datasets/Aracaju.xlsx\")\n",
        "df2 = pd.read_excel(\"/content/drive/MyDrive/2be7520c-94cd-463f-8432-d580d0810344/Cusro_Python_Pandas_Digital_Innovation-master/datasets/Fortaleza.xlsx\")\n",
        "df3 = pd.read_excel(\"/content/drive/MyDrive/2be7520c-94cd-463f-8432-d580d0810344/Cusro_Python_Pandas_Digital_Innovation-master/datasets/Natal.xlsx\")\n",
        "df4 = pd.read_excel(\"/content/drive/MyDrive/2be7520c-94cd-463f-8432-d580d0810344/Cusro_Python_Pandas_Digital_Innovation-master/datasets/Recife.xlsx\")\n",
        "df5 = pd.read_excel(\"/content/drive/MyDrive/2be7520c-94cd-463f-8432-d580d0810344/Cusro_Python_Pandas_Digital_Innovation-master/datasets/Salvador.xlsx\")"
      ],
      "execution_count": null,
      "outputs": []
    },
    {
      "cell_type": "code",
      "metadata": {
        "id": "Kpxvfcx3mn-r"
      },
      "source": [
        "#juntando os arquivos\n",
        "df = pd.concat([df1,df2,df3,df4,df5])"
      ],
      "execution_count": null,
      "outputs": []
    },
    {
      "cell_type": "code",
      "metadata": {
        "colab": {
          "base_uri": "https://localhost:8080/",
          "height": 204
        },
        "id": "KT2WyJxdmvCj",
        "outputId": "36769d1a-df9a-4095-a306-d66fb3581637"
      },
      "source": [
        "#exibindo as 5 primeiras linhas\n",
        "df.head()"
      ],
      "execution_count": null,
      "outputs": [
        {
          "output_type": "execute_result",
          "data": {
            "text/html": [
              "<div>\n",
              "<style scoped>\n",
              "    .dataframe tbody tr th:only-of-type {\n",
              "        vertical-align: middle;\n",
              "    }\n",
              "\n",
              "    .dataframe tbody tr th {\n",
              "        vertical-align: top;\n",
              "    }\n",
              "\n",
              "    .dataframe thead th {\n",
              "        text-align: right;\n",
              "    }\n",
              "</style>\n",
              "<table border=\"1\" class=\"dataframe\">\n",
              "  <thead>\n",
              "    <tr style=\"text-align: right;\">\n",
              "      <th></th>\n",
              "      <th>Cidade</th>\n",
              "      <th>Data</th>\n",
              "      <th>Vendas</th>\n",
              "      <th>LojaID</th>\n",
              "      <th>Qtde</th>\n",
              "    </tr>\n",
              "  </thead>\n",
              "  <tbody>\n",
              "    <tr>\n",
              "      <th>0</th>\n",
              "      <td>Aracaju</td>\n",
              "      <td>2018-01-01</td>\n",
              "      <td>142.00</td>\n",
              "      <td>1520</td>\n",
              "      <td>1</td>\n",
              "    </tr>\n",
              "    <tr>\n",
              "      <th>1</th>\n",
              "      <td>Aracaju</td>\n",
              "      <td>2018-01-01</td>\n",
              "      <td>14.21</td>\n",
              "      <td>1522</td>\n",
              "      <td>6</td>\n",
              "    </tr>\n",
              "    <tr>\n",
              "      <th>2</th>\n",
              "      <td>Aracaju</td>\n",
              "      <td>2018-01-01</td>\n",
              "      <td>71.55</td>\n",
              "      <td>1520</td>\n",
              "      <td>1</td>\n",
              "    </tr>\n",
              "    <tr>\n",
              "      <th>3</th>\n",
              "      <td>Aracaju</td>\n",
              "      <td>2018-01-01</td>\n",
              "      <td>3.01</td>\n",
              "      <td>1521</td>\n",
              "      <td>7</td>\n",
              "    </tr>\n",
              "    <tr>\n",
              "      <th>4</th>\n",
              "      <td>Aracaju</td>\n",
              "      <td>2018-01-01</td>\n",
              "      <td>24.51</td>\n",
              "      <td>1522</td>\n",
              "      <td>8</td>\n",
              "    </tr>\n",
              "  </tbody>\n",
              "</table>\n",
              "</div>"
            ],
            "text/plain": [
              "    Cidade       Data  Vendas  LojaID  Qtde\n",
              "0  Aracaju 2018-01-01  142.00    1520     1\n",
              "1  Aracaju 2018-01-01   14.21    1522     6\n",
              "2  Aracaju 2018-01-01   71.55    1520     1\n",
              "3  Aracaju 2018-01-01    3.01    1521     7\n",
              "4  Aracaju 2018-01-01   24.51    1522     8"
            ]
          },
          "metadata": {
            "tags": []
          },
          "execution_count": 7
        }
      ]
    },
    {
      "cell_type": "code",
      "metadata": {
        "colab": {
          "base_uri": "https://localhost:8080/",
          "height": 204
        },
        "id": "AO3r146rniGD",
        "outputId": "65698c24-5dbb-4ab7-b1ef-c2c5affe7d3f"
      },
      "source": [
        "#5 últimas\n",
        "df.tail()"
      ],
      "execution_count": null,
      "outputs": [
        {
          "output_type": "execute_result",
          "data": {
            "text/html": [
              "<div>\n",
              "<style scoped>\n",
              "    .dataframe tbody tr th:only-of-type {\n",
              "        vertical-align: middle;\n",
              "    }\n",
              "\n",
              "    .dataframe tbody tr th {\n",
              "        vertical-align: top;\n",
              "    }\n",
              "\n",
              "    .dataframe thead th {\n",
              "        text-align: right;\n",
              "    }\n",
              "</style>\n",
              "<table border=\"1\" class=\"dataframe\">\n",
              "  <thead>\n",
              "    <tr style=\"text-align: right;\">\n",
              "      <th></th>\n",
              "      <th>Cidade</th>\n",
              "      <th>Data</th>\n",
              "      <th>Vendas</th>\n",
              "      <th>LojaID</th>\n",
              "      <th>Qtde</th>\n",
              "    </tr>\n",
              "  </thead>\n",
              "  <tbody>\n",
              "    <tr>\n",
              "      <th>235</th>\n",
              "      <td>Salvador</td>\n",
              "      <td>2019-01-03</td>\n",
              "      <td>41.84</td>\n",
              "      <td>1034</td>\n",
              "      <td>1</td>\n",
              "    </tr>\n",
              "    <tr>\n",
              "      <th>236</th>\n",
              "      <td>Salvador</td>\n",
              "      <td>2019-01-03</td>\n",
              "      <td>126.29</td>\n",
              "      <td>1035</td>\n",
              "      <td>3</td>\n",
              "    </tr>\n",
              "    <tr>\n",
              "      <th>237</th>\n",
              "      <td>Salvador</td>\n",
              "      <td>2019-01-03</td>\n",
              "      <td>38.06</td>\n",
              "      <td>1036</td>\n",
              "      <td>3</td>\n",
              "    </tr>\n",
              "    <tr>\n",
              "      <th>238</th>\n",
              "      <td>Salvador</td>\n",
              "      <td>2019-01-03</td>\n",
              "      <td>139.64</td>\n",
              "      <td>1035</td>\n",
              "      <td>1</td>\n",
              "    </tr>\n",
              "    <tr>\n",
              "      <th>239</th>\n",
              "      <td>Salvador</td>\n",
              "      <td>2019-01-03</td>\n",
              "      <td>161.41</td>\n",
              "      <td>1037</td>\n",
              "      <td>3</td>\n",
              "    </tr>\n",
              "  </tbody>\n",
              "</table>\n",
              "</div>"
            ],
            "text/plain": [
              "       Cidade       Data  Vendas  LojaID  Qtde\n",
              "235  Salvador 2019-01-03   41.84    1034     1\n",
              "236  Salvador 2019-01-03  126.29    1035     3\n",
              "237  Salvador 2019-01-03   38.06    1036     3\n",
              "238  Salvador 2019-01-03  139.64    1035     1\n",
              "239  Salvador 2019-01-03  161.41    1037     3"
            ]
          },
          "metadata": {
            "tags": []
          },
          "execution_count": 8
        }
      ]
    },
    {
      "cell_type": "code",
      "metadata": {
        "colab": {
          "base_uri": "https://localhost:8080/"
        },
        "id": "BsIYkRwZnmnD",
        "outputId": "76e3edd8-9bc5-478d-9d34-6559bed05a65"
      },
      "source": [
        "#Verificando o tipo dos dados\n",
        "df.dtypes"
      ],
      "execution_count": null,
      "outputs": [
        {
          "output_type": "execute_result",
          "data": {
            "text/plain": [
              "Cidade            object\n",
              "Data      datetime64[ns]\n",
              "Vendas           float64\n",
              "LojaID             int64\n",
              "Qtde               int64\n",
              "dtype: object"
            ]
          },
          "metadata": {
            "tags": []
          },
          "execution_count": 11
        }
      ]
    },
    {
      "cell_type": "code",
      "metadata": {
        "id": "efpDJlRdEzn-"
      },
      "source": [
        "#alterando o tipo de dados\n",
        "df[\"LojaID\"] = df[\"LojaID\"].astype(\"object\")"
      ],
      "execution_count": null,
      "outputs": []
    },
    {
      "cell_type": "code",
      "metadata": {
        "colab": {
          "base_uri": "https://localhost:8080/"
        },
        "id": "LgO5QbvgF2yd",
        "outputId": "32acd02b-298b-4182-aa57-f02bbddc3f13"
      },
      "source": [
        "df.dtypes"
      ],
      "execution_count": null,
      "outputs": [
        {
          "output_type": "execute_result",
          "data": {
            "text/plain": [
              "Cidade            object\n",
              "Data      datetime64[ns]\n",
              "Vendas           float64\n",
              "LojaID            object\n",
              "Qtde               int64\n",
              "dtype: object"
            ]
          },
          "metadata": {
            "tags": []
          },
          "execution_count": 15
        }
      ]
    },
    {
      "cell_type": "code",
      "metadata": {
        "colab": {
          "base_uri": "https://localhost:8080/",
          "height": 204
        },
        "id": "sq29rsfrF43D",
        "outputId": "b8ea5604-0e16-4a4c-f7dd-03726f22ded3"
      },
      "source": [
        "df.head()"
      ],
      "execution_count": null,
      "outputs": [
        {
          "output_type": "execute_result",
          "data": {
            "text/html": [
              "<div>\n",
              "<style scoped>\n",
              "    .dataframe tbody tr th:only-of-type {\n",
              "        vertical-align: middle;\n",
              "    }\n",
              "\n",
              "    .dataframe tbody tr th {\n",
              "        vertical-align: top;\n",
              "    }\n",
              "\n",
              "    .dataframe thead th {\n",
              "        text-align: right;\n",
              "    }\n",
              "</style>\n",
              "<table border=\"1\" class=\"dataframe\">\n",
              "  <thead>\n",
              "    <tr style=\"text-align: right;\">\n",
              "      <th></th>\n",
              "      <th>Cidade</th>\n",
              "      <th>Data</th>\n",
              "      <th>Vendas</th>\n",
              "      <th>LojaID</th>\n",
              "      <th>Qtde</th>\n",
              "    </tr>\n",
              "  </thead>\n",
              "  <tbody>\n",
              "    <tr>\n",
              "      <th>0</th>\n",
              "      <td>Aracaju</td>\n",
              "      <td>2018-01-01</td>\n",
              "      <td>142.00</td>\n",
              "      <td>1520</td>\n",
              "      <td>1</td>\n",
              "    </tr>\n",
              "    <tr>\n",
              "      <th>1</th>\n",
              "      <td>Aracaju</td>\n",
              "      <td>2018-01-01</td>\n",
              "      <td>14.21</td>\n",
              "      <td>1522</td>\n",
              "      <td>6</td>\n",
              "    </tr>\n",
              "    <tr>\n",
              "      <th>2</th>\n",
              "      <td>Aracaju</td>\n",
              "      <td>2018-01-01</td>\n",
              "      <td>71.55</td>\n",
              "      <td>1520</td>\n",
              "      <td>1</td>\n",
              "    </tr>\n",
              "    <tr>\n",
              "      <th>3</th>\n",
              "      <td>Aracaju</td>\n",
              "      <td>2018-01-01</td>\n",
              "      <td>3.01</td>\n",
              "      <td>1521</td>\n",
              "      <td>7</td>\n",
              "    </tr>\n",
              "    <tr>\n",
              "      <th>4</th>\n",
              "      <td>Aracaju</td>\n",
              "      <td>2018-01-01</td>\n",
              "      <td>24.51</td>\n",
              "      <td>1522</td>\n",
              "      <td>8</td>\n",
              "    </tr>\n",
              "  </tbody>\n",
              "</table>\n",
              "</div>"
            ],
            "text/plain": [
              "    Cidade       Data  Vendas LojaID  Qtde\n",
              "0  Aracaju 2018-01-01  142.00   1520     1\n",
              "1  Aracaju 2018-01-01   14.21   1522     6\n",
              "2  Aracaju 2018-01-01   71.55   1520     1\n",
              "3  Aracaju 2018-01-01    3.01   1521     7\n",
              "4  Aracaju 2018-01-01   24.51   1522     8"
            ]
          },
          "metadata": {
            "tags": []
          },
          "execution_count": 17
        }
      ]
    },
    {
      "cell_type": "code",
      "metadata": {
        "colab": {
          "base_uri": "https://localhost:8080/"
        },
        "id": "EXvxAnT1GFIM",
        "outputId": "2489ba84-bb0c-4341-84c1-d343ba107f70"
      },
      "source": [
        "#Verificando se tem valores faltando\n",
        "df.isnull().sum()"
      ],
      "execution_count": null,
      "outputs": [
        {
          "output_type": "execute_result",
          "data": {
            "text/plain": [
              "Cidade    0\n",
              "Data      0\n",
              "Vendas    0\n",
              "LojaID    0\n",
              "Qtde      0\n",
              "dtype: int64"
            ]
          },
          "metadata": {
            "tags": []
          },
          "execution_count": 19
        }
      ]
    },
    {
      "cell_type": "code",
      "metadata": {
        "id": "eGB9cwi3GJeE"
      },
      "source": [
        "#Substituindo os valores faltes pela média\n",
        "df[\"Vendas\"].fillna(df[\"Vendas\"].mean(), inplace=True)"
      ],
      "execution_count": null,
      "outputs": []
    },
    {
      "cell_type": "code",
      "metadata": {
        "colab": {
          "base_uri": "https://localhost:8080/"
        },
        "id": "sQ4JlT4jGriU",
        "outputId": "96a76ec0-e244-4de6-99ed-e6d8372bc940"
      },
      "source": [
        "#verificando\n",
        "df.isnull().sum()"
      ],
      "execution_count": null,
      "outputs": [
        {
          "output_type": "execute_result",
          "data": {
            "text/plain": [
              "Cidade    0\n",
              "Data      0\n",
              "Vendas    0\n",
              "LojaID    0\n",
              "Qtde      0\n",
              "dtype: int64"
            ]
          },
          "metadata": {
            "tags": []
          },
          "execution_count": 22
        }
      ]
    },
    {
      "cell_type": "code",
      "metadata": {
        "id": "LwnavQOoG3-U"
      },
      "source": [
        "#substituindo os valores nulos por zero\n",
        "df[\"Vendas\"].fillna(0,inplace=True)"
      ],
      "execution_count": null,
      "outputs": []
    },
    {
      "cell_type": "code",
      "metadata": {
        "id": "OCsO0chmHKPU"
      },
      "source": [
        "#Apagando as linhas com os valores nulos\n",
        "df.dropna(how=\"all\", inplace=True)"
      ],
      "execution_count": null,
      "outputs": []
    },
    {
      "cell_type": "markdown",
      "metadata": {
        "id": "Q5cj0f1SHkj9"
      },
      "source": [
        "Criando Colunas"
      ]
    },
    {
      "cell_type": "code",
      "metadata": {
        "id": "MsB5_8mJHnPh"
      },
      "source": [
        "#Criando coluna de Receitas\n",
        "df[\"Receita\"] = df[\"Vendas\"].mul(df[\"Qtde\"])"
      ],
      "execution_count": null,
      "outputs": []
    },
    {
      "cell_type": "code",
      "metadata": {
        "colab": {
          "base_uri": "https://localhost:8080/",
          "height": 204
        },
        "id": "8lPL7sX8H6Hh",
        "outputId": "ec32afbb-7765-46c9-dc61-e838899c860c"
      },
      "source": [
        "df.head()"
      ],
      "execution_count": null,
      "outputs": [
        {
          "output_type": "execute_result",
          "data": {
            "text/html": [
              "<div>\n",
              "<style scoped>\n",
              "    .dataframe tbody tr th:only-of-type {\n",
              "        vertical-align: middle;\n",
              "    }\n",
              "\n",
              "    .dataframe tbody tr th {\n",
              "        vertical-align: top;\n",
              "    }\n",
              "\n",
              "    .dataframe thead th {\n",
              "        text-align: right;\n",
              "    }\n",
              "</style>\n",
              "<table border=\"1\" class=\"dataframe\">\n",
              "  <thead>\n",
              "    <tr style=\"text-align: right;\">\n",
              "      <th></th>\n",
              "      <th>Cidade</th>\n",
              "      <th>Data</th>\n",
              "      <th>Vendas</th>\n",
              "      <th>LojaID</th>\n",
              "      <th>Qtde</th>\n",
              "      <th>Receita</th>\n",
              "    </tr>\n",
              "  </thead>\n",
              "  <tbody>\n",
              "    <tr>\n",
              "      <th>0</th>\n",
              "      <td>Aracaju</td>\n",
              "      <td>2018-01-01</td>\n",
              "      <td>142.00</td>\n",
              "      <td>1520</td>\n",
              "      <td>1</td>\n",
              "      <td>142.00</td>\n",
              "    </tr>\n",
              "    <tr>\n",
              "      <th>1</th>\n",
              "      <td>Aracaju</td>\n",
              "      <td>2018-01-01</td>\n",
              "      <td>14.21</td>\n",
              "      <td>1522</td>\n",
              "      <td>6</td>\n",
              "      <td>85.26</td>\n",
              "    </tr>\n",
              "    <tr>\n",
              "      <th>2</th>\n",
              "      <td>Aracaju</td>\n",
              "      <td>2018-01-01</td>\n",
              "      <td>71.55</td>\n",
              "      <td>1520</td>\n",
              "      <td>1</td>\n",
              "      <td>71.55</td>\n",
              "    </tr>\n",
              "    <tr>\n",
              "      <th>3</th>\n",
              "      <td>Aracaju</td>\n",
              "      <td>2018-01-01</td>\n",
              "      <td>3.01</td>\n",
              "      <td>1521</td>\n",
              "      <td>7</td>\n",
              "      <td>21.07</td>\n",
              "    </tr>\n",
              "    <tr>\n",
              "      <th>4</th>\n",
              "      <td>Aracaju</td>\n",
              "      <td>2018-01-01</td>\n",
              "      <td>24.51</td>\n",
              "      <td>1522</td>\n",
              "      <td>8</td>\n",
              "      <td>196.08</td>\n",
              "    </tr>\n",
              "  </tbody>\n",
              "</table>\n",
              "</div>"
            ],
            "text/plain": [
              "    Cidade       Data  Vendas LojaID  Qtde  Receita\n",
              "0  Aracaju 2018-01-01  142.00   1520     1   142.00\n",
              "1  Aracaju 2018-01-01   14.21   1522     6    85.26\n",
              "2  Aracaju 2018-01-01   71.55   1520     1    71.55\n",
              "3  Aracaju 2018-01-01    3.01   1521     7    21.07\n",
              "4  Aracaju 2018-01-01   24.51   1522     8   196.08"
            ]
          },
          "metadata": {
            "tags": []
          },
          "execution_count": 26
        }
      ]
    },
    {
      "cell_type": "code",
      "metadata": {
        "id": "0KTSdr01H9Gs"
      },
      "source": [
        "#Criando coluna Recita/Vendas\n",
        "df[\"Receitas/Vendas\"] = df[\"Receita\"] / df[\"Vendas\"]"
      ],
      "execution_count": null,
      "outputs": []
    },
    {
      "cell_type": "code",
      "metadata": {
        "colab": {
          "base_uri": "https://localhost:8080/",
          "height": 204
        },
        "id": "7bCSLJh4IL6M",
        "outputId": "74ac1d68-098b-4515-d310-72b2226846d2"
      },
      "source": [
        "df.head()"
      ],
      "execution_count": null,
      "outputs": [
        {
          "output_type": "execute_result",
          "data": {
            "text/html": [
              "<div>\n",
              "<style scoped>\n",
              "    .dataframe tbody tr th:only-of-type {\n",
              "        vertical-align: middle;\n",
              "    }\n",
              "\n",
              "    .dataframe tbody tr th {\n",
              "        vertical-align: top;\n",
              "    }\n",
              "\n",
              "    .dataframe thead th {\n",
              "        text-align: right;\n",
              "    }\n",
              "</style>\n",
              "<table border=\"1\" class=\"dataframe\">\n",
              "  <thead>\n",
              "    <tr style=\"text-align: right;\">\n",
              "      <th></th>\n",
              "      <th>Cidade</th>\n",
              "      <th>Data</th>\n",
              "      <th>Vendas</th>\n",
              "      <th>LojaID</th>\n",
              "      <th>Qtde</th>\n",
              "      <th>Receita</th>\n",
              "      <th>Receitas/Vendas</th>\n",
              "    </tr>\n",
              "  </thead>\n",
              "  <tbody>\n",
              "    <tr>\n",
              "      <th>0</th>\n",
              "      <td>Aracaju</td>\n",
              "      <td>2018-01-01</td>\n",
              "      <td>142.00</td>\n",
              "      <td>1520</td>\n",
              "      <td>1</td>\n",
              "      <td>142.00</td>\n",
              "      <td>1.0</td>\n",
              "    </tr>\n",
              "    <tr>\n",
              "      <th>1</th>\n",
              "      <td>Aracaju</td>\n",
              "      <td>2018-01-01</td>\n",
              "      <td>14.21</td>\n",
              "      <td>1522</td>\n",
              "      <td>6</td>\n",
              "      <td>85.26</td>\n",
              "      <td>6.0</td>\n",
              "    </tr>\n",
              "    <tr>\n",
              "      <th>2</th>\n",
              "      <td>Aracaju</td>\n",
              "      <td>2018-01-01</td>\n",
              "      <td>71.55</td>\n",
              "      <td>1520</td>\n",
              "      <td>1</td>\n",
              "      <td>71.55</td>\n",
              "      <td>1.0</td>\n",
              "    </tr>\n",
              "    <tr>\n",
              "      <th>3</th>\n",
              "      <td>Aracaju</td>\n",
              "      <td>2018-01-01</td>\n",
              "      <td>3.01</td>\n",
              "      <td>1521</td>\n",
              "      <td>7</td>\n",
              "      <td>21.07</td>\n",
              "      <td>7.0</td>\n",
              "    </tr>\n",
              "    <tr>\n",
              "      <th>4</th>\n",
              "      <td>Aracaju</td>\n",
              "      <td>2018-01-01</td>\n",
              "      <td>24.51</td>\n",
              "      <td>1522</td>\n",
              "      <td>8</td>\n",
              "      <td>196.08</td>\n",
              "      <td>8.0</td>\n",
              "    </tr>\n",
              "  </tbody>\n",
              "</table>\n",
              "</div>"
            ],
            "text/plain": [
              "    Cidade       Data  Vendas LojaID  Qtde  Receita  Receitas/Vendas\n",
              "0  Aracaju 2018-01-01  142.00   1520     1   142.00              1.0\n",
              "1  Aracaju 2018-01-01   14.21   1522     6    85.26              6.0\n",
              "2  Aracaju 2018-01-01   71.55   1520     1    71.55              1.0\n",
              "3  Aracaju 2018-01-01    3.01   1521     7    21.07              7.0\n",
              "4  Aracaju 2018-01-01   24.51   1522     8   196.08              8.0"
            ]
          },
          "metadata": {
            "tags": []
          },
          "execution_count": 28
        }
      ]
    },
    {
      "cell_type": "code",
      "metadata": {
        "colab": {
          "base_uri": "https://localhost:8080/"
        },
        "id": "24NTwyzHINsj",
        "outputId": "ab2f5cf3-5d93-428a-e46b-3aed29873184"
      },
      "source": [
        "#Descobrindo maior Receita\n",
        "df[\"Receita\"].max()"
      ],
      "execution_count": null,
      "outputs": [
        {
          "output_type": "execute_result",
          "data": {
            "text/plain": [
              "3544.0"
            ]
          },
          "metadata": {
            "tags": []
          },
          "execution_count": 29
        }
      ]
    },
    {
      "cell_type": "code",
      "metadata": {
        "colab": {
          "base_uri": "https://localhost:8080/"
        },
        "id": "tC_GyVLgIVmc",
        "outputId": "43d8b23d-d3d0-4c25-dadf-7345d213f192"
      },
      "source": [
        "#Menor Receita\n",
        "df[\"Receita\"].min()"
      ],
      "execution_count": null,
      "outputs": [
        {
          "output_type": "execute_result",
          "data": {
            "text/plain": [
              "3.34"
            ]
          },
          "metadata": {
            "tags": []
          },
          "execution_count": 30
        }
      ]
    },
    {
      "cell_type": "code",
      "metadata": {
        "colab": {
          "base_uri": "https://localhost:8080/",
          "height": 142
        },
        "id": "gPmTF0dmIaYz",
        "outputId": "cccc1c86-d92d-4412-ee76-0615cba21d8e"
      },
      "source": [
        "#nlarges : Retorna um Top n maiores valores,definido da coluna que eu quiser\n",
        "df.nlargest(3,\"Receita\")"
      ],
      "execution_count": null,
      "outputs": [
        {
          "output_type": "execute_result",
          "data": {
            "text/html": [
              "<div>\n",
              "<style scoped>\n",
              "    .dataframe tbody tr th:only-of-type {\n",
              "        vertical-align: middle;\n",
              "    }\n",
              "\n",
              "    .dataframe tbody tr th {\n",
              "        vertical-align: top;\n",
              "    }\n",
              "\n",
              "    .dataframe thead th {\n",
              "        text-align: right;\n",
              "    }\n",
              "</style>\n",
              "<table border=\"1\" class=\"dataframe\">\n",
              "  <thead>\n",
              "    <tr style=\"text-align: right;\">\n",
              "      <th></th>\n",
              "      <th>Cidade</th>\n",
              "      <th>Data</th>\n",
              "      <th>Vendas</th>\n",
              "      <th>LojaID</th>\n",
              "      <th>Qtde</th>\n",
              "      <th>Receita</th>\n",
              "      <th>Receitas/Vendas</th>\n",
              "    </tr>\n",
              "  </thead>\n",
              "  <tbody>\n",
              "    <tr>\n",
              "      <th>7</th>\n",
              "      <td>Natal</td>\n",
              "      <td>2019-03-18</td>\n",
              "      <td>886.0</td>\n",
              "      <td>853</td>\n",
              "      <td>4</td>\n",
              "      <td>3544.0</td>\n",
              "      <td>4.0</td>\n",
              "    </tr>\n",
              "    <tr>\n",
              "      <th>51</th>\n",
              "      <td>Natal</td>\n",
              "      <td>2018-01-21</td>\n",
              "      <td>859.0</td>\n",
              "      <td>852</td>\n",
              "      <td>4</td>\n",
              "      <td>3436.0</td>\n",
              "      <td>4.0</td>\n",
              "    </tr>\n",
              "    <tr>\n",
              "      <th>55</th>\n",
              "      <td>Natal</td>\n",
              "      <td>2019-01-08</td>\n",
              "      <td>859.0</td>\n",
              "      <td>854</td>\n",
              "      <td>4</td>\n",
              "      <td>3436.0</td>\n",
              "      <td>4.0</td>\n",
              "    </tr>\n",
              "  </tbody>\n",
              "</table>\n",
              "</div>"
            ],
            "text/plain": [
              "   Cidade       Data  Vendas LojaID  Qtde  Receita  Receitas/Vendas\n",
              "7   Natal 2019-03-18   886.0    853     4   3544.0              4.0\n",
              "51  Natal 2018-01-21   859.0    852     4   3436.0              4.0\n",
              "55  Natal 2019-01-08   859.0    854     4   3436.0              4.0"
            ]
          },
          "metadata": {
            "tags": []
          },
          "execution_count": 31
        }
      ]
    },
    {
      "cell_type": "code",
      "metadata": {
        "colab": {
          "base_uri": "https://localhost:8080/",
          "height": 142
        },
        "id": "aWglQsxRI6kE",
        "outputId": "90400036-897f-4050-d66f-839d074d9f5f"
      },
      "source": [
        "#nsmallest : Retorna um Top n menores valores, definido da coluna que eu quiser\n",
        "df.nsmallest(3,\"Receita\")"
      ],
      "execution_count": null,
      "outputs": [
        {
          "output_type": "execute_result",
          "data": {
            "text/html": [
              "<div>\n",
              "<style scoped>\n",
              "    .dataframe tbody tr th:only-of-type {\n",
              "        vertical-align: middle;\n",
              "    }\n",
              "\n",
              "    .dataframe tbody tr th {\n",
              "        vertical-align: top;\n",
              "    }\n",
              "\n",
              "    .dataframe thead th {\n",
              "        text-align: right;\n",
              "    }\n",
              "</style>\n",
              "<table border=\"1\" class=\"dataframe\">\n",
              "  <thead>\n",
              "    <tr style=\"text-align: right;\">\n",
              "      <th></th>\n",
              "      <th>Cidade</th>\n",
              "      <th>Data</th>\n",
              "      <th>Vendas</th>\n",
              "      <th>LojaID</th>\n",
              "      <th>Qtde</th>\n",
              "      <th>Receita</th>\n",
              "      <th>Receitas/Vendas</th>\n",
              "    </tr>\n",
              "  </thead>\n",
              "  <tbody>\n",
              "    <tr>\n",
              "      <th>118</th>\n",
              "      <td>Aracaju</td>\n",
              "      <td>2018-01-01</td>\n",
              "      <td>3.34</td>\n",
              "      <td>1522</td>\n",
              "      <td>1</td>\n",
              "      <td>3.34</td>\n",
              "      <td>1.0</td>\n",
              "    </tr>\n",
              "    <tr>\n",
              "      <th>65</th>\n",
              "      <td>Recife</td>\n",
              "      <td>2019-01-01</td>\n",
              "      <td>4.01</td>\n",
              "      <td>981</td>\n",
              "      <td>1</td>\n",
              "      <td>4.01</td>\n",
              "      <td>1.0</td>\n",
              "    </tr>\n",
              "    <tr>\n",
              "      <th>92</th>\n",
              "      <td>Natal</td>\n",
              "      <td>2019-01-02</td>\n",
              "      <td>4.57</td>\n",
              "      <td>1035</td>\n",
              "      <td>1</td>\n",
              "      <td>4.57</td>\n",
              "      <td>1.0</td>\n",
              "    </tr>\n",
              "  </tbody>\n",
              "</table>\n",
              "</div>"
            ],
            "text/plain": [
              "      Cidade       Data  Vendas LojaID  Qtde  Receita  Receitas/Vendas\n",
              "118  Aracaju 2018-01-01    3.34   1522     1     3.34              1.0\n",
              "65    Recife 2019-01-01    4.01    981     1     4.01              1.0\n",
              "92     Natal 2019-01-02    4.57   1035     1     4.57              1.0"
            ]
          },
          "metadata": {
            "tags": []
          },
          "execution_count": 32
        }
      ]
    },
    {
      "cell_type": "code",
      "metadata": {
        "colab": {
          "base_uri": "https://localhost:8080/"
        },
        "id": "1OYQ4IrAJPAk",
        "outputId": "a36de847-d90a-4bba-c519-05a52fc2cdc2"
      },
      "source": [
        "#Agrupamento por cidade. Nesse caso somatório de Receita por cidade\n",
        "df.groupby(\"Cidade\")[\"Receita\"].sum()"
      ],
      "execution_count": null,
      "outputs": [
        {
          "output_type": "execute_result",
          "data": {
            "text/plain": [
              "Cidade\n",
              "Aracaju       48748.25\n",
              "Fortaleza     37913.97\n",
              "Natal        167227.52\n",
              "Recife        51936.51\n",
              "Salvador      40596.73\n",
              "Name: Receita, dtype: float64"
            ]
          },
          "metadata": {
            "tags": []
          },
          "execution_count": 33
        }
      ]
    },
    {
      "cell_type": "code",
      "metadata": {
        "colab": {
          "base_uri": "https://localhost:8080/",
          "height": 359
        },
        "id": "oj9k-KNhJnFT",
        "outputId": "db638e6b-4df2-46dc-d370-16483fb8dd00"
      },
      "source": [
        "#Ordenando um conjunto de dados. No Ex do maior para o menor, mostrando os 10 primeiros\n",
        "df.sort_values(\"Receita\", ascending=False).head(10)"
      ],
      "execution_count": null,
      "outputs": [
        {
          "output_type": "execute_result",
          "data": {
            "text/html": [
              "<div>\n",
              "<style scoped>\n",
              "    .dataframe tbody tr th:only-of-type {\n",
              "        vertical-align: middle;\n",
              "    }\n",
              "\n",
              "    .dataframe tbody tr th {\n",
              "        vertical-align: top;\n",
              "    }\n",
              "\n",
              "    .dataframe thead th {\n",
              "        text-align: right;\n",
              "    }\n",
              "</style>\n",
              "<table border=\"1\" class=\"dataframe\">\n",
              "  <thead>\n",
              "    <tr style=\"text-align: right;\">\n",
              "      <th></th>\n",
              "      <th>Cidade</th>\n",
              "      <th>Data</th>\n",
              "      <th>Vendas</th>\n",
              "      <th>LojaID</th>\n",
              "      <th>Qtde</th>\n",
              "      <th>Receita</th>\n",
              "      <th>Receitas/Vendas</th>\n",
              "    </tr>\n",
              "  </thead>\n",
              "  <tbody>\n",
              "    <tr>\n",
              "      <th>7</th>\n",
              "      <td>Natal</td>\n",
              "      <td>2019-03-18</td>\n",
              "      <td>886.0</td>\n",
              "      <td>853</td>\n",
              "      <td>4</td>\n",
              "      <td>3544.0</td>\n",
              "      <td>4.0</td>\n",
              "    </tr>\n",
              "    <tr>\n",
              "      <th>55</th>\n",
              "      <td>Natal</td>\n",
              "      <td>2019-01-08</td>\n",
              "      <td>859.0</td>\n",
              "      <td>854</td>\n",
              "      <td>4</td>\n",
              "      <td>3436.0</td>\n",
              "      <td>4.0</td>\n",
              "    </tr>\n",
              "    <tr>\n",
              "      <th>51</th>\n",
              "      <td>Natal</td>\n",
              "      <td>2018-01-21</td>\n",
              "      <td>859.0</td>\n",
              "      <td>852</td>\n",
              "      <td>4</td>\n",
              "      <td>3436.0</td>\n",
              "      <td>4.0</td>\n",
              "    </tr>\n",
              "    <tr>\n",
              "      <th>30</th>\n",
              "      <td>Natal</td>\n",
              "      <td>2018-10-02</td>\n",
              "      <td>856.0</td>\n",
              "      <td>853</td>\n",
              "      <td>4</td>\n",
              "      <td>3424.0</td>\n",
              "      <td>4.0</td>\n",
              "    </tr>\n",
              "    <tr>\n",
              "      <th>41</th>\n",
              "      <td>Natal</td>\n",
              "      <td>2018-05-20</td>\n",
              "      <td>835.0</td>\n",
              "      <td>852</td>\n",
              "      <td>4</td>\n",
              "      <td>3340.0</td>\n",
              "      <td>4.0</td>\n",
              "    </tr>\n",
              "    <tr>\n",
              "      <th>38</th>\n",
              "      <td>Natal</td>\n",
              "      <td>2018-02-25</td>\n",
              "      <td>828.0</td>\n",
              "      <td>852</td>\n",
              "      <td>4</td>\n",
              "      <td>3312.0</td>\n",
              "      <td>4.0</td>\n",
              "    </tr>\n",
              "    <tr>\n",
              "      <th>10</th>\n",
              "      <td>Natal</td>\n",
              "      <td>2018-10-27</td>\n",
              "      <td>828.0</td>\n",
              "      <td>852</td>\n",
              "      <td>4</td>\n",
              "      <td>3312.0</td>\n",
              "      <td>4.0</td>\n",
              "    </tr>\n",
              "    <tr>\n",
              "      <th>69</th>\n",
              "      <td>Natal</td>\n",
              "      <td>2019-03-24</td>\n",
              "      <td>817.0</td>\n",
              "      <td>852</td>\n",
              "      <td>4</td>\n",
              "      <td>3268.0</td>\n",
              "      <td>4.0</td>\n",
              "    </tr>\n",
              "    <tr>\n",
              "      <th>62</th>\n",
              "      <td>Natal</td>\n",
              "      <td>2018-02-10</td>\n",
              "      <td>793.0</td>\n",
              "      <td>854</td>\n",
              "      <td>4</td>\n",
              "      <td>3172.0</td>\n",
              "      <td>4.0</td>\n",
              "    </tr>\n",
              "    <tr>\n",
              "      <th>52</th>\n",
              "      <td>Natal</td>\n",
              "      <td>2018-04-27</td>\n",
              "      <td>778.0</td>\n",
              "      <td>854</td>\n",
              "      <td>4</td>\n",
              "      <td>3112.0</td>\n",
              "      <td>4.0</td>\n",
              "    </tr>\n",
              "  </tbody>\n",
              "</table>\n",
              "</div>"
            ],
            "text/plain": [
              "   Cidade       Data  Vendas LojaID  Qtde  Receita  Receitas/Vendas\n",
              "7   Natal 2019-03-18   886.0    853     4   3544.0              4.0\n",
              "55  Natal 2019-01-08   859.0    854     4   3436.0              4.0\n",
              "51  Natal 2018-01-21   859.0    852     4   3436.0              4.0\n",
              "30  Natal 2018-10-02   856.0    853     4   3424.0              4.0\n",
              "41  Natal 2018-05-20   835.0    852     4   3340.0              4.0\n",
              "38  Natal 2018-02-25   828.0    852     4   3312.0              4.0\n",
              "10  Natal 2018-10-27   828.0    852     4   3312.0              4.0\n",
              "69  Natal 2019-03-24   817.0    852     4   3268.0              4.0\n",
              "62  Natal 2018-02-10   793.0    854     4   3172.0              4.0\n",
              "52  Natal 2018-04-27   778.0    854     4   3112.0              4.0"
            ]
          },
          "metadata": {
            "tags": []
          },
          "execution_count": 34
        }
      ]
    },
    {
      "cell_type": "markdown",
      "metadata": {
        "id": "sBWqcDl3KBOc"
      },
      "source": [
        "Datas"
      ]
    },
    {
      "cell_type": "code",
      "metadata": {
        "id": "QaAiIqh7KDCZ"
      },
      "source": [
        "#Transformando a coluna de Datas em tipo inteiro\n",
        "df[\"Data\"] = df[\"Data\"].astype(\"int64\")"
      ],
      "execution_count": null,
      "outputs": []
    },
    {
      "cell_type": "code",
      "metadata": {
        "colab": {
          "base_uri": "https://localhost:8080/"
        },
        "id": "NFJg2gFaKhoa",
        "outputId": "a5ddc6a0-1880-450e-b1d5-914ab7652a3d"
      },
      "source": [
        "df.dtypes"
      ],
      "execution_count": null,
      "outputs": [
        {
          "output_type": "execute_result",
          "data": {
            "text/plain": [
              "Cidade              object\n",
              "Data                 int64\n",
              "Vendas             float64\n",
              "LojaID              object\n",
              "Qtde                 int64\n",
              "Receita            float64\n",
              "Receitas/Vendas    float64\n",
              "dtype: object"
            ]
          },
          "metadata": {
            "tags": []
          },
          "execution_count": 36
        }
      ]
    },
    {
      "cell_type": "code",
      "metadata": {
        "id": "eJHo6196KjAc"
      },
      "source": [
        "#Transformando a coluna Datas em tipo Data\n",
        "df[\"Data\"] = pd.to_datetime(df[\"Data\"])"
      ],
      "execution_count": null,
      "outputs": []
    },
    {
      "cell_type": "code",
      "metadata": {
        "colab": {
          "base_uri": "https://localhost:8080/"
        },
        "id": "OJeoGNX6K_is",
        "outputId": "8f8d8a06-c503-46b4-9d48-08066af74862"
      },
      "source": [
        "df.dtypes"
      ],
      "execution_count": null,
      "outputs": [
        {
          "output_type": "execute_result",
          "data": {
            "text/plain": [
              "Cidade                     object\n",
              "Data               datetime64[ns]\n",
              "Vendas                    float64\n",
              "LojaID                     object\n",
              "Qtde                        int64\n",
              "Receita                   float64\n",
              "Receitas/Vendas           float64\n",
              "dtype: object"
            ]
          },
          "metadata": {
            "tags": []
          },
          "execution_count": 38
        }
      ]
    },
    {
      "cell_type": "code",
      "metadata": {
        "colab": {
          "base_uri": "https://localhost:8080/"
        },
        "id": "IrPDeXm8LB9r",
        "outputId": "3258a291-6004-4ec1-e5ae-a51df247d47a"
      },
      "source": [
        "#Agrupando por ano\n",
        "df.groupby(df[\"Data\"].dt.year)[\"Receita\"].sum()"
      ],
      "execution_count": null,
      "outputs": [
        {
          "output_type": "execute_result",
          "data": {
            "text/plain": [
              "Data\n",
              "2018    118176.53\n",
              "2019    228246.45\n",
              "Name: Receita, dtype: float64"
            ]
          },
          "metadata": {
            "tags": []
          },
          "execution_count": 40
        }
      ]
    },
    {
      "cell_type": "code",
      "metadata": {
        "id": "NuNwzeg7LYyj"
      },
      "source": [
        "#Criando uma coluna com o ano\n",
        "df[\"Ano_Venda\"] = df[\"Data\"].dt.year"
      ],
      "execution_count": null,
      "outputs": []
    },
    {
      "cell_type": "code",
      "metadata": {
        "colab": {
          "base_uri": "https://localhost:8080/",
          "height": 289
        },
        "id": "5znUpowlLt-T",
        "outputId": "defcb6bc-63b4-4812-d8f5-9b76d72a54ad"
      },
      "source": [
        "#Pega uma amostra de n linhas\n",
        "df.sample(5)"
      ],
      "execution_count": null,
      "outputs": [
        {
          "output_type": "execute_result",
          "data": {
            "text/html": [
              "<div>\n",
              "<style scoped>\n",
              "    .dataframe tbody tr th:only-of-type {\n",
              "        vertical-align: middle;\n",
              "    }\n",
              "\n",
              "    .dataframe tbody tr th {\n",
              "        vertical-align: top;\n",
              "    }\n",
              "\n",
              "    .dataframe thead th {\n",
              "        text-align: right;\n",
              "    }\n",
              "</style>\n",
              "<table border=\"1\" class=\"dataframe\">\n",
              "  <thead>\n",
              "    <tr style=\"text-align: right;\">\n",
              "      <th></th>\n",
              "      <th>Cidade</th>\n",
              "      <th>Data</th>\n",
              "      <th>Vendas</th>\n",
              "      <th>LojaID</th>\n",
              "      <th>Qtde</th>\n",
              "      <th>Receita</th>\n",
              "      <th>Receitas/Vendas</th>\n",
              "      <th>Ano_Venda</th>\n",
              "    </tr>\n",
              "  </thead>\n",
              "  <tbody>\n",
              "    <tr>\n",
              "      <th>59</th>\n",
              "      <td>Recife</td>\n",
              "      <td>2019-01-01</td>\n",
              "      <td>89.39</td>\n",
              "      <td>983</td>\n",
              "      <td>5</td>\n",
              "      <td>446.95</td>\n",
              "      <td>5.0</td>\n",
              "      <td>2019</td>\n",
              "    </tr>\n",
              "    <tr>\n",
              "      <th>96</th>\n",
              "      <td>Fortaleza</td>\n",
              "      <td>2019-01-01</td>\n",
              "      <td>23.31</td>\n",
              "      <td>1004</td>\n",
              "      <td>4</td>\n",
              "      <td>93.24</td>\n",
              "      <td>4.0</td>\n",
              "      <td>2019</td>\n",
              "    </tr>\n",
              "    <tr>\n",
              "      <th>62</th>\n",
              "      <td>Recife</td>\n",
              "      <td>2019-01-01</td>\n",
              "      <td>23.04</td>\n",
              "      <td>983</td>\n",
              "      <td>6</td>\n",
              "      <td>138.24</td>\n",
              "      <td>6.0</td>\n",
              "      <td>2019</td>\n",
              "    </tr>\n",
              "    <tr>\n",
              "      <th>86</th>\n",
              "      <td>Natal</td>\n",
              "      <td>2019-01-02</td>\n",
              "      <td>156.47</td>\n",
              "      <td>1037</td>\n",
              "      <td>3</td>\n",
              "      <td>469.41</td>\n",
              "      <td>3.0</td>\n",
              "      <td>2019</td>\n",
              "    </tr>\n",
              "    <tr>\n",
              "      <th>38</th>\n",
              "      <td>Natal</td>\n",
              "      <td>2018-02-25</td>\n",
              "      <td>828.00</td>\n",
              "      <td>852</td>\n",
              "      <td>4</td>\n",
              "      <td>3312.00</td>\n",
              "      <td>4.0</td>\n",
              "      <td>2018</td>\n",
              "    </tr>\n",
              "  </tbody>\n",
              "</table>\n",
              "</div>"
            ],
            "text/plain": [
              "       Cidade       Data  Vendas  ...  Receita  Receitas/Vendas  Ano_Venda\n",
              "59     Recife 2019-01-01   89.39  ...   446.95              5.0       2019\n",
              "96  Fortaleza 2019-01-01   23.31  ...    93.24              4.0       2019\n",
              "62     Recife 2019-01-01   23.04  ...   138.24              6.0       2019\n",
              "86      Natal 2019-01-02  156.47  ...   469.41              3.0       2019\n",
              "38      Natal 2018-02-25  828.00  ...  3312.00              4.0       2018\n",
              "\n",
              "[5 rows x 8 columns]"
            ]
          },
          "metadata": {
            "tags": []
          },
          "execution_count": 42
        }
      ]
    },
    {
      "cell_type": "code",
      "metadata": {
        "id": "np7E1kpJLwDG"
      },
      "source": [
        "#Pegando o mês e o dia\n",
        "df[\"mes_venda\"],df[\"dia_venda\"] = (df[\"Data\"].dt.month, df[\"Data\"].dt.day)"
      ],
      "execution_count": null,
      "outputs": []
    },
    {
      "cell_type": "code",
      "metadata": {
        "colab": {
          "base_uri": "https://localhost:8080/",
          "height": 213
        },
        "id": "U9TIeVeDM5m8",
        "outputId": "53969a5c-d2df-4f92-c38b-04043c1b0bbc"
      },
      "source": [
        "df.sample(3)"
      ],
      "execution_count": null,
      "outputs": [
        {
          "output_type": "execute_result",
          "data": {
            "text/html": [
              "<div>\n",
              "<style scoped>\n",
              "    .dataframe tbody tr th:only-of-type {\n",
              "        vertical-align: middle;\n",
              "    }\n",
              "\n",
              "    .dataframe tbody tr th {\n",
              "        vertical-align: top;\n",
              "    }\n",
              "\n",
              "    .dataframe thead th {\n",
              "        text-align: right;\n",
              "    }\n",
              "</style>\n",
              "<table border=\"1\" class=\"dataframe\">\n",
              "  <thead>\n",
              "    <tr style=\"text-align: right;\">\n",
              "      <th></th>\n",
              "      <th>Cidade</th>\n",
              "      <th>Data</th>\n",
              "      <th>Vendas</th>\n",
              "      <th>LojaID</th>\n",
              "      <th>Qtde</th>\n",
              "      <th>Receita</th>\n",
              "      <th>Receitas/Vendas</th>\n",
              "      <th>Ano_Venda</th>\n",
              "      <th>mes_venda</th>\n",
              "      <th>dia_venda</th>\n",
              "    </tr>\n",
              "  </thead>\n",
              "  <tbody>\n",
              "    <tr>\n",
              "      <th>82</th>\n",
              "      <td>Natal</td>\n",
              "      <td>2019-03-07</td>\n",
              "      <td>868.00</td>\n",
              "      <td>854</td>\n",
              "      <td>3</td>\n",
              "      <td>2604.00</td>\n",
              "      <td>3.0</td>\n",
              "      <td>2019</td>\n",
              "      <td>3</td>\n",
              "      <td>7</td>\n",
              "    </tr>\n",
              "    <tr>\n",
              "      <th>0</th>\n",
              "      <td>Fortaleza</td>\n",
              "      <td>2019-01-01</td>\n",
              "      <td>45.27</td>\n",
              "      <td>1002</td>\n",
              "      <td>2</td>\n",
              "      <td>90.54</td>\n",
              "      <td>2.0</td>\n",
              "      <td>2019</td>\n",
              "      <td>1</td>\n",
              "      <td>1</td>\n",
              "    </tr>\n",
              "    <tr>\n",
              "      <th>24</th>\n",
              "      <td>Natal</td>\n",
              "      <td>2018-04-22</td>\n",
              "      <td>868.00</td>\n",
              "      <td>854</td>\n",
              "      <td>3</td>\n",
              "      <td>2604.00</td>\n",
              "      <td>3.0</td>\n",
              "      <td>2018</td>\n",
              "      <td>4</td>\n",
              "      <td>22</td>\n",
              "    </tr>\n",
              "  </tbody>\n",
              "</table>\n",
              "</div>"
            ],
            "text/plain": [
              "       Cidade       Data  Vendas  ... Ano_Venda  mes_venda  dia_venda\n",
              "82      Natal 2019-03-07  868.00  ...      2019          3          7\n",
              "0   Fortaleza 2019-01-01   45.27  ...      2019          1          1\n",
              "24      Natal 2018-04-22  868.00  ...      2018          4         22\n",
              "\n",
              "[3 rows x 10 columns]"
            ]
          },
          "metadata": {
            "tags": []
          },
          "execution_count": 45
        }
      ]
    },
    {
      "cell_type": "code",
      "metadata": {
        "colab": {
          "base_uri": "https://localhost:8080/"
        },
        "id": "iLMi4RXJNeZC",
        "outputId": "3021ece7-24de-401c-f5b1-e23f6624783b"
      },
      "source": [
        "#Achando a data mais antiga\n",
        "df[\"Data\"].min()"
      ],
      "execution_count": null,
      "outputs": [
        {
          "output_type": "execute_result",
          "data": {
            "text/plain": [
              "Timestamp('2018-01-01 00:00:00')"
            ]
          },
          "metadata": {
            "tags": []
          },
          "execution_count": 46
        }
      ]
    },
    {
      "cell_type": "code",
      "metadata": {
        "id": "8of1Nml3NjNr"
      },
      "source": [
        "#Diferença de dias. No Ex. diferença do dia da venda para a primeira venda\n",
        "df[\"diferença_dias\"] = df[\"Data\"]-df[\"Data\"].min()"
      ],
      "execution_count": null,
      "outputs": []
    },
    {
      "cell_type": "code",
      "metadata": {
        "colab": {
          "base_uri": "https://localhost:8080/",
          "height": 213
        },
        "id": "uaMqRKF0NxKL",
        "outputId": "405b7cff-8fe6-434b-ffff-04d06419b0d5"
      },
      "source": [
        "df.sample(3)"
      ],
      "execution_count": null,
      "outputs": [
        {
          "output_type": "execute_result",
          "data": {
            "text/html": [
              "<div>\n",
              "<style scoped>\n",
              "    .dataframe tbody tr th:only-of-type {\n",
              "        vertical-align: middle;\n",
              "    }\n",
              "\n",
              "    .dataframe tbody tr th {\n",
              "        vertical-align: top;\n",
              "    }\n",
              "\n",
              "    .dataframe thead th {\n",
              "        text-align: right;\n",
              "    }\n",
              "</style>\n",
              "<table border=\"1\" class=\"dataframe\">\n",
              "  <thead>\n",
              "    <tr style=\"text-align: right;\">\n",
              "      <th></th>\n",
              "      <th>Cidade</th>\n",
              "      <th>Data</th>\n",
              "      <th>Vendas</th>\n",
              "      <th>LojaID</th>\n",
              "      <th>Qtde</th>\n",
              "      <th>Receita</th>\n",
              "      <th>Receitas/Vendas</th>\n",
              "      <th>Ano_Venda</th>\n",
              "      <th>mes_venda</th>\n",
              "      <th>dia_venda</th>\n",
              "      <th>diferença_dias</th>\n",
              "    </tr>\n",
              "  </thead>\n",
              "  <tbody>\n",
              "    <tr>\n",
              "      <th>174</th>\n",
              "      <td>Natal</td>\n",
              "      <td>2019-01-02</td>\n",
              "      <td>35.3</td>\n",
              "      <td>1037</td>\n",
              "      <td>1</td>\n",
              "      <td>35.3</td>\n",
              "      <td>1.0</td>\n",
              "      <td>2019</td>\n",
              "      <td>1</td>\n",
              "      <td>2</td>\n",
              "      <td>366 days</td>\n",
              "    </tr>\n",
              "    <tr>\n",
              "      <th>224</th>\n",
              "      <td>Salvador</td>\n",
              "      <td>2019-01-02</td>\n",
              "      <td>178.3</td>\n",
              "      <td>1035</td>\n",
              "      <td>3</td>\n",
              "      <td>534.9</td>\n",
              "      <td>3.0</td>\n",
              "      <td>2019</td>\n",
              "      <td>1</td>\n",
              "      <td>2</td>\n",
              "      <td>366 days</td>\n",
              "    </tr>\n",
              "    <tr>\n",
              "      <th>120</th>\n",
              "      <td>Fortaleza</td>\n",
              "      <td>2019-03-02</td>\n",
              "      <td>184.9</td>\n",
              "      <td>982</td>\n",
              "      <td>4</td>\n",
              "      <td>739.6</td>\n",
              "      <td>4.0</td>\n",
              "      <td>2019</td>\n",
              "      <td>3</td>\n",
              "      <td>2</td>\n",
              "      <td>425 days</td>\n",
              "    </tr>\n",
              "  </tbody>\n",
              "</table>\n",
              "</div>"
            ],
            "text/plain": [
              "        Cidade       Data  Vendas  ... mes_venda  dia_venda  diferença_dias\n",
              "174      Natal 2019-01-02    35.3  ...         1          2        366 days\n",
              "224   Salvador 2019-01-02   178.3  ...         1          2        366 days\n",
              "120  Fortaleza 2019-03-02   184.9  ...         3          2        425 days\n",
              "\n",
              "[3 rows x 11 columns]"
            ]
          },
          "metadata": {
            "tags": []
          },
          "execution_count": 49
        }
      ]
    },
    {
      "cell_type": "code",
      "metadata": {
        "id": "e6f0AXoBNzo7"
      },
      "source": [
        "#Crinado coluna trimestre\n",
        "df[\"trimestre_venda\"] = df[\"Data\"].dt.quarter"
      ],
      "execution_count": null,
      "outputs": []
    },
    {
      "cell_type": "code",
      "metadata": {
        "colab": {
          "base_uri": "https://localhost:8080/",
          "height": 213
        },
        "id": "uTE-2EqAOL8q",
        "outputId": "77a8beeb-a049-4f19-874c-c387765ae1d1"
      },
      "source": [
        "df.sample(3)"
      ],
      "execution_count": null,
      "outputs": [
        {
          "output_type": "execute_result",
          "data": {
            "text/html": [
              "<div>\n",
              "<style scoped>\n",
              "    .dataframe tbody tr th:only-of-type {\n",
              "        vertical-align: middle;\n",
              "    }\n",
              "\n",
              "    .dataframe tbody tr th {\n",
              "        vertical-align: top;\n",
              "    }\n",
              "\n",
              "    .dataframe thead th {\n",
              "        text-align: right;\n",
              "    }\n",
              "</style>\n",
              "<table border=\"1\" class=\"dataframe\">\n",
              "  <thead>\n",
              "    <tr style=\"text-align: right;\">\n",
              "      <th></th>\n",
              "      <th>Cidade</th>\n",
              "      <th>Data</th>\n",
              "      <th>Vendas</th>\n",
              "      <th>LojaID</th>\n",
              "      <th>Qtde</th>\n",
              "      <th>Receita</th>\n",
              "      <th>Receitas/Vendas</th>\n",
              "      <th>Ano_Venda</th>\n",
              "      <th>mes_venda</th>\n",
              "      <th>dia_venda</th>\n",
              "      <th>diferença_dias</th>\n",
              "      <th>trimestre+venda</th>\n",
              "      <th>trimestre_venda</th>\n",
              "    </tr>\n",
              "  </thead>\n",
              "  <tbody>\n",
              "    <tr>\n",
              "      <th>72</th>\n",
              "      <td>Salvador</td>\n",
              "      <td>2019-01-01</td>\n",
              "      <td>149.47</td>\n",
              "      <td>1036</td>\n",
              "      <td>3</td>\n",
              "      <td>448.41</td>\n",
              "      <td>3.0</td>\n",
              "      <td>2019</td>\n",
              "      <td>1</td>\n",
              "      <td>1</td>\n",
              "      <td>365 days</td>\n",
              "      <td>1</td>\n",
              "      <td>1</td>\n",
              "    </tr>\n",
              "    <tr>\n",
              "      <th>10</th>\n",
              "      <td>Natal</td>\n",
              "      <td>2018-10-27</td>\n",
              "      <td>828.00</td>\n",
              "      <td>852</td>\n",
              "      <td>4</td>\n",
              "      <td>3312.00</td>\n",
              "      <td>4.0</td>\n",
              "      <td>2018</td>\n",
              "      <td>10</td>\n",
              "      <td>27</td>\n",
              "      <td>299 days</td>\n",
              "      <td>4</td>\n",
              "      <td>4</td>\n",
              "    </tr>\n",
              "    <tr>\n",
              "      <th>137</th>\n",
              "      <td>Salvador</td>\n",
              "      <td>2019-03-02</td>\n",
              "      <td>51.66</td>\n",
              "      <td>1036</td>\n",
              "      <td>3</td>\n",
              "      <td>154.98</td>\n",
              "      <td>3.0</td>\n",
              "      <td>2019</td>\n",
              "      <td>3</td>\n",
              "      <td>2</td>\n",
              "      <td>425 days</td>\n",
              "      <td>1</td>\n",
              "      <td>1</td>\n",
              "    </tr>\n",
              "  </tbody>\n",
              "</table>\n",
              "</div>"
            ],
            "text/plain": [
              "       Cidade       Data  ...  trimestre+venda trimestre_venda\n",
              "72   Salvador 2019-01-01  ...                1               1\n",
              "10      Natal 2018-10-27  ...                4               4\n",
              "137  Salvador 2019-03-02  ...                1               1\n",
              "\n",
              "[3 rows x 13 columns]"
            ]
          },
          "metadata": {
            "tags": []
          },
          "execution_count": 54
        }
      ]
    },
    {
      "cell_type": "code",
      "metadata": {
        "id": "PNlku2_tOOKS"
      },
      "source": [
        "#Filtrando por ano e mês. No Ex. Vendasd em 2019 no mês de Março\n",
        "vendas_marco_19 = df.loc[(df[\"Data\"].dt.year == 2019) & (df[\"Data\"].dt.month == 3)]"
      ],
      "execution_count": null,
      "outputs": []
    },
    {
      "cell_type": "code",
      "metadata": {
        "colab": {
          "base_uri": "https://localhost:8080/",
          "height": 419
        },
        "id": "vNg0j1IgOy20",
        "outputId": "2cea458c-2196-424d-e7c2-b0f05a5219e7"
      },
      "source": [
        "vendas_marco_19"
      ],
      "execution_count": null,
      "outputs": [
        {
          "output_type": "execute_result",
          "data": {
            "text/html": [
              "<div>\n",
              "<style scoped>\n",
              "    .dataframe tbody tr th:only-of-type {\n",
              "        vertical-align: middle;\n",
              "    }\n",
              "\n",
              "    .dataframe tbody tr th {\n",
              "        vertical-align: top;\n",
              "    }\n",
              "\n",
              "    .dataframe thead th {\n",
              "        text-align: right;\n",
              "    }\n",
              "</style>\n",
              "<table border=\"1\" class=\"dataframe\">\n",
              "  <thead>\n",
              "    <tr style=\"text-align: right;\">\n",
              "      <th></th>\n",
              "      <th>Cidade</th>\n",
              "      <th>Data</th>\n",
              "      <th>Vendas</th>\n",
              "      <th>LojaID</th>\n",
              "      <th>Qtde</th>\n",
              "      <th>Receita</th>\n",
              "      <th>Receitas/Vendas</th>\n",
              "      <th>Ano_Venda</th>\n",
              "      <th>mes_venda</th>\n",
              "      <th>dia_venda</th>\n",
              "      <th>diferença_dias</th>\n",
              "      <th>trimestre+venda</th>\n",
              "      <th>trimestre_venda</th>\n",
              "    </tr>\n",
              "  </thead>\n",
              "  <tbody>\n",
              "    <tr>\n",
              "      <th>108</th>\n",
              "      <td>Fortaleza</td>\n",
              "      <td>2019-03-02</td>\n",
              "      <td>152.89</td>\n",
              "      <td>981</td>\n",
              "      <td>4</td>\n",
              "      <td>611.56</td>\n",
              "      <td>4.0</td>\n",
              "      <td>2019</td>\n",
              "      <td>3</td>\n",
              "      <td>2</td>\n",
              "      <td>425 days</td>\n",
              "      <td>1</td>\n",
              "      <td>1</td>\n",
              "    </tr>\n",
              "    <tr>\n",
              "      <th>109</th>\n",
              "      <td>Fortaleza</td>\n",
              "      <td>2019-03-02</td>\n",
              "      <td>18.90</td>\n",
              "      <td>982</td>\n",
              "      <td>6</td>\n",
              "      <td>113.40</td>\n",
              "      <td>6.0</td>\n",
              "      <td>2019</td>\n",
              "      <td>3</td>\n",
              "      <td>2</td>\n",
              "      <td>425 days</td>\n",
              "      <td>1</td>\n",
              "      <td>1</td>\n",
              "    </tr>\n",
              "    <tr>\n",
              "      <th>110</th>\n",
              "      <td>Fortaleza</td>\n",
              "      <td>2019-03-02</td>\n",
              "      <td>51.98</td>\n",
              "      <td>983</td>\n",
              "      <td>6</td>\n",
              "      <td>311.88</td>\n",
              "      <td>6.0</td>\n",
              "      <td>2019</td>\n",
              "      <td>3</td>\n",
              "      <td>2</td>\n",
              "      <td>425 days</td>\n",
              "      <td>1</td>\n",
              "      <td>1</td>\n",
              "    </tr>\n",
              "    <tr>\n",
              "      <th>111</th>\n",
              "      <td>Fortaleza</td>\n",
              "      <td>2019-03-02</td>\n",
              "      <td>8.00</td>\n",
              "      <td>981</td>\n",
              "      <td>3</td>\n",
              "      <td>24.00</td>\n",
              "      <td>3.0</td>\n",
              "      <td>2019</td>\n",
              "      <td>3</td>\n",
              "      <td>2</td>\n",
              "      <td>425 days</td>\n",
              "      <td>1</td>\n",
              "      <td>1</td>\n",
              "    </tr>\n",
              "    <tr>\n",
              "      <th>112</th>\n",
              "      <td>Fortaleza</td>\n",
              "      <td>2019-03-02</td>\n",
              "      <td>133.59</td>\n",
              "      <td>982</td>\n",
              "      <td>1</td>\n",
              "      <td>133.59</td>\n",
              "      <td>1.0</td>\n",
              "      <td>2019</td>\n",
              "      <td>3</td>\n",
              "      <td>2</td>\n",
              "      <td>425 days</td>\n",
              "      <td>1</td>\n",
              "      <td>1</td>\n",
              "    </tr>\n",
              "    <tr>\n",
              "      <th>...</th>\n",
              "      <td>...</td>\n",
              "      <td>...</td>\n",
              "      <td>...</td>\n",
              "      <td>...</td>\n",
              "      <td>...</td>\n",
              "      <td>...</td>\n",
              "      <td>...</td>\n",
              "      <td>...</td>\n",
              "      <td>...</td>\n",
              "      <td>...</td>\n",
              "      <td>...</td>\n",
              "      <td>...</td>\n",
              "      <td>...</td>\n",
              "    </tr>\n",
              "    <tr>\n",
              "      <th>137</th>\n",
              "      <td>Salvador</td>\n",
              "      <td>2019-03-02</td>\n",
              "      <td>51.66</td>\n",
              "      <td>1036</td>\n",
              "      <td>3</td>\n",
              "      <td>154.98</td>\n",
              "      <td>3.0</td>\n",
              "      <td>2019</td>\n",
              "      <td>3</td>\n",
              "      <td>2</td>\n",
              "      <td>425 days</td>\n",
              "      <td>1</td>\n",
              "      <td>1</td>\n",
              "    </tr>\n",
              "    <tr>\n",
              "      <th>138</th>\n",
              "      <td>Salvador</td>\n",
              "      <td>2019-03-02</td>\n",
              "      <td>212.03</td>\n",
              "      <td>1037</td>\n",
              "      <td>3</td>\n",
              "      <td>636.09</td>\n",
              "      <td>3.0</td>\n",
              "      <td>2019</td>\n",
              "      <td>3</td>\n",
              "      <td>2</td>\n",
              "      <td>425 days</td>\n",
              "      <td>1</td>\n",
              "      <td>1</td>\n",
              "    </tr>\n",
              "    <tr>\n",
              "      <th>139</th>\n",
              "      <td>Salvador</td>\n",
              "      <td>2019-03-02</td>\n",
              "      <td>169.01</td>\n",
              "      <td>1036</td>\n",
              "      <td>1</td>\n",
              "      <td>169.01</td>\n",
              "      <td>1.0</td>\n",
              "      <td>2019</td>\n",
              "      <td>3</td>\n",
              "      <td>2</td>\n",
              "      <td>425 days</td>\n",
              "      <td>1</td>\n",
              "      <td>1</td>\n",
              "    </tr>\n",
              "    <tr>\n",
              "      <th>140</th>\n",
              "      <td>Salvador</td>\n",
              "      <td>2019-03-02</td>\n",
              "      <td>20.79</td>\n",
              "      <td>1036</td>\n",
              "      <td>2</td>\n",
              "      <td>41.58</td>\n",
              "      <td>2.0</td>\n",
              "      <td>2019</td>\n",
              "      <td>3</td>\n",
              "      <td>2</td>\n",
              "      <td>425 days</td>\n",
              "      <td>1</td>\n",
              "      <td>1</td>\n",
              "    </tr>\n",
              "    <tr>\n",
              "      <th>141</th>\n",
              "      <td>Salvador</td>\n",
              "      <td>2019-03-02</td>\n",
              "      <td>9.08</td>\n",
              "      <td>1036</td>\n",
              "      <td>1</td>\n",
              "      <td>9.08</td>\n",
              "      <td>1.0</td>\n",
              "      <td>2019</td>\n",
              "      <td>3</td>\n",
              "      <td>2</td>\n",
              "      <td>425 days</td>\n",
              "      <td>1</td>\n",
              "      <td>1</td>\n",
              "    </tr>\n",
              "  </tbody>\n",
              "</table>\n",
              "<p>121 rows × 13 columns</p>\n",
              "</div>"
            ],
            "text/plain": [
              "        Cidade       Data  ...  trimestre+venda trimestre_venda\n",
              "108  Fortaleza 2019-03-02  ...                1               1\n",
              "109  Fortaleza 2019-03-02  ...                1               1\n",
              "110  Fortaleza 2019-03-02  ...                1               1\n",
              "111  Fortaleza 2019-03-02  ...                1               1\n",
              "112  Fortaleza 2019-03-02  ...                1               1\n",
              "..         ...        ...  ...              ...             ...\n",
              "137   Salvador 2019-03-02  ...                1               1\n",
              "138   Salvador 2019-03-02  ...                1               1\n",
              "139   Salvador 2019-03-02  ...                1               1\n",
              "140   Salvador 2019-03-02  ...                1               1\n",
              "141   Salvador 2019-03-02  ...                1               1\n",
              "\n",
              "[121 rows x 13 columns]"
            ]
          },
          "metadata": {
            "tags": []
          },
          "execution_count": 56
        }
      ]
    },
    {
      "cell_type": "markdown",
      "metadata": {
        "id": "p6dWDNBgO8yB"
      },
      "source": [
        "Visualização de Dados"
      ]
    },
    {
      "cell_type": "code",
      "metadata": {
        "id": "UvGuRT9EO_hT"
      },
      "source": [
        ""
      ],
      "execution_count": null,
      "outputs": []
    }
  ]
}